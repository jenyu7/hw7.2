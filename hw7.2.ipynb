{
 "cells": [
  {
   "cell_type": "markdown",
   "metadata": {},
   "source": [
    "## Homework 7.2\n",
    "Heredity in Darwin’s finches, the parametric way"
   ]
  },
  {
   "cell_type": "code",
   "execution_count": null,
   "metadata": {},
   "outputs": [],
   "source": [
    "# Colab setup ------------------\n",
    "import os, sys, subprocess\n",
    "if \"google.colab\" in sys.modules:\n",
    "    cmd = \"pip install --upgrade iqplot colorcet watermark\"\n",
    "    process = subprocess.Popen(cmd.split(), stdout=subprocess.PIPE, stderr=subprocess.PIPE)\n",
    "    stdout, stderr = process.communicate()\n",
    "    data_path = \"https://s3.amazonaws.com/bebi103.caltech.edu/data/\"\n",
    "else:\n",
    "    data_path = \"../data/\"\n",
    "# ------------------------------\n",
    "import warnings\n",
    "import numpy as np\n",
    "import pandas as pd\n",
    "import scipy.stats as st\n",
    "import scipy.optimize\n",
    "\n",
    "import numba\n",
    "import tqdm\n",
    "import bebi103\n",
    "\n",
    "import iqplot\n",
    "\n",
    "import colorcet\n",
    "\n",
    "import bokeh.io\n",
    "bokeh.io.output_notebook()"
   ]
  },
  {
   "cell_type": "markdown",
   "metadata": {},
   "source": [
    "First, we load in the beak data and format it for our convenience by creating a column with the average adult Fortis beak depth and renaming the column for the average offspring beak depth to make it consistent with the scandens data.  "
   ]
  },
  {
   "cell_type": "code",
   "execution_count": null,
   "metadata": {},
   "outputs": [],
   "source": [
    "fname = os.path.join(data_path, \"fortis_beak_depth_heredity.csv\")\n",
    "fortis_df = pd.read_csv(fname, comment=\"#\")\n",
    "fortis_df[\"mid_parent\"] = (fortis_df[\"Male BD\"] + fortis_df[\"Female BD\"]) / 2\n",
    "fortis_df = fortis_df.rename(columns={\"Mid-offspr\": \"mid_offspring\"})\n",
    "fortis_df.head()"
   ]
  },
  {
   "cell_type": "markdown",
   "metadata": {},
   "source": [
    "We also load in the Scandens species data. "
   ]
  },
  {
   "cell_type": "code",
   "execution_count": null,
   "metadata": {},
   "outputs": [],
   "source": [
    "fname = os.path.join(data_path, \"scandens_beak_depth_heredity.csv\")\n",
    "scandens_df = pd.read_csv(fname, comment=\"#\")\n",
    "scandens_df.head()"
   ]
  },
  {
   "cell_type": "markdown",
   "metadata": {},
   "source": [
    "In this problem, we aim to compute a maximum likelihood estimate for heritability using a parametric approach by modeling parental and offspring beak depths using a bivariate normal distribution. We define a 2-vector containing the parental and offspring beak depths. Our model is\n",
    "\n",
    "\\begin{align}\n",
    "\\mathbf{y}_i \\sim \\text{Norm}(\\boldsymbol{\\mu}, \\mathsf{\\Sigma})\\;\\;\\;\\forall i,\n",
    "\\end{align}\n",
    "\n",
    "where $\\boldsymbol{\\mu} = (\\mu_p, \\mu_o)^\\mathsf{T}$ is a vector containing the mean parent and offspring beak depth and $\\mathsf{\\Sigma}$ is the covariance matrix,\n",
    "\n",
    "\\begin{align}\n",
    "\\mathsf{\\Sigma} = \\begin{pmatrix}\n",
    "\\sigma_p^2 & \\sigma_{op} \\\\\n",
    "\\sigma_{op} & \\sigma_o^2\n",
    "\\end{pmatrix}.\n",
    "\\end{align}\n",
    "\n",
    "Therefore, in our model there are 5 parameters:  $\\mu_p$, $\\mu_o$, $\\sigma_p$, $\\sigma_o$, and $\\sigma_{op}$.\n",
    "\n",
    "We first begin by defining `log_like_iid_mnorm`, a function that calculates the log likelihood for the multivariate normal distribution using the scipy stats module. We use  $\\mu_p$, $\\mu_o$, $\\sigma_p$, $\\sigma_o$, and $\\sigma_{op}$ as our parameters but reassign them to `mu` and `sigma` in an array and matrix respectively for the scipy module. For all code from here, we say that $\\mu_p$, $\\mu_o$ are represented by variables mu1 and mu2, while $\\sigma_p$, $\\sigma_o$, and $\\sigma_{op}$ are represented by sig1, sig2, and sig3 respectively. Note that the MLE for the covariance matrix and the mean vector in a bivariate normal can be calculated in the same fashion as those statistics (see the following link for reference: https://people.eecs.berkeley.edu/~jordan/courses/260-spring10/other-readings/chapter13.pdf).\n",
    "\n",
    "For disallowed parameter values, such as when mu or sigma <= 0, we return -np.inf because this is the limit of a logarithm as the value approaches 0 from the right side - this is consistent with the Powell method. We also test that the covariance matrix is a positive definite matrix, and if not similarly return -np.inf.\n"
   ]
  },
  {
   "cell_type": "code",
   "execution_count": null,
   "metadata": {},
   "outputs": [],
   "source": [
    "#Code based on Bois (2020)\n",
    "\n",
    "def log_like_iid_mnorm(params, n):\n",
    "    \"\"\"Log likelihood for i.i.d. Multivariate Norm measurements, parametrized\n",
    "    by mu, Sigma (covariance matrix).\"\"\"\n",
    "    mu1, mu2, sig1, sig2, sig3 = params\n",
    "    mu = [mu1, mu2]\n",
    "    sig = np.asmatrix([[sig1, sig3], [sig3, sig2]])\n",
    "    if mu[0] <= 0 or mu[1] <= 0: \n",
    "        return -np.inf\n",
    "    if sig1 <= 0 or sig2 <= 0: \n",
    "        return -np.inf\n",
    "    # test if covariance matrix is positive definite\n",
    "    try: \n",
    "        np.linalg.cholesky(sig)\n",
    "    except:\n",
    "        return -np.inf\n",
    "    return np.sum(st.multivariate_normal.logpdf(n, np.asarray(mu), sig))"
   ]
  },
  {
   "cell_type": "markdown",
   "metadata": {},
   "source": [
    "We then make a function that calculates maximum likelihood estimates for parameters for i.i.d Multivariate normal measurements, parametrized by mu, sigma (cov matrix)."
   ]
  },
  {
   "cell_type": "code",
   "execution_count": null,
   "metadata": {},
   "outputs": [],
   "source": [
    "#Code based on Bois (2020)\n",
    "\n",
    "def mle_iid_mnorm(n):\n",
    "    \"\"\"Perform maximum likelihood estimates for parameters for i.i.d.\n",
    "    Multivariate Normal measurements, parametrized by mu, sigma (cov matrix)\"\"\"\n",
    "    with warnings.catch_warnings():\n",
    "        warnings.simplefilter(\"ignore\")\n",
    "\n",
    "        res = scipy.optimize.minimize(\n",
    "            fun=lambda params, n: -log_like_iid_mnorm(params, n),\n",
    "            x0=np.array([8, 8, 1, 2, 0.5]),\n",
    "            args=(n,),\n",
    "            method='Powell'\n",
    "        )\n",
    "\n",
    "    if res.success:\n",
    "        return res.x\n",
    "    else:\n",
    "        raise RuntimeError('Convergence failed with message', res.message)"
   ]
  },
  {
   "cell_type": "markdown",
   "metadata": {},
   "source": [
    "In order to perform MLE for each species, we first create a tidy dataframe, that contains the averages of beak depth for the parents and respective offspring for each species. "
   ]
  },
  {
   "cell_type": "code",
   "execution_count": null,
   "metadata": {},
   "outputs": [],
   "source": [
    "species = [\"fortis\", \"scandens\"] \n",
    "df1 = pd.DataFrame(fortis_df[['mid_parent', 'mid_offspring']])\n",
    "df1['species'] = \"fortis\"\n",
    "df2 = pd.DataFrame(scandens_df[['mid_parent', 'mid_offspring']])\n",
    "df2['species'] = \"scandens\"\n",
    "master = pd.concat([df1, df2])\n",
    "master"
   ]
  },
  {
   "cell_type": "markdown",
   "metadata": {},
   "source": [
    "Before performing MLE, we create an empty dataframe, `df_mle`, that contains columns for the species, the parameter being estimated, and the mle value. We will fill this dataframe with out MLE estimates; it is empty currently. "
   ]
  },
  {
   "cell_type": "code",
   "execution_count": null,
   "metadata": {},
   "outputs": [],
   "source": [
    "df_mle = pd.DataFrame(columns=['species', 'parameter', 'mle'])\n",
    "df_mle"
   ]
  },
  {
   "cell_type": "markdown",
   "metadata": {},
   "source": [
    "To perform MLE, we use our function defined earlier, `mle_iid_mnorm` for each of the species. We use a for loop that creates a sub dataframe that stores the species, the parameter value being estimated, and the actual mle value. We append this information in `df_mle` as its computed. "
   ]
  },
  {
   "cell_type": "code",
   "execution_count": null,
   "metadata": {},
   "outputs": [],
   "source": [
    "# Perform MLE for each species\n",
    "for sp in species:\n",
    "    mle = mle_iid_mnorm(master.loc[master['species'] == sp].values[:,:2])\n",
    "    sub_df = pd.DataFrame({'species': [sp]*5, 'parameter': ['mu1', 'mu2', 'sig1', 'sig2', 'sig3'], 'mle': mle})\n",
    "    df_mle = df_mle.append(sub_df)\n",
    "df_mle"
   ]
  },
  {
   "cell_type": "markdown",
   "metadata": {},
   "source": [
    "Finally, to calculate the confidence intervals for these parameter estimates we use parametric bootstrapping. \n",
    "\n",
    "We use a function made by Bois(2020) that draws parametric replicates of MLE. We also need to a provide a function that draws new data sets our of the parametric model, and thus make a function `sp_multinorm` that return a multivariate normal distribution given the 5 parameters  $\\mu_p$, $\\mu_o$, $\\sigma_p$, $\\sigma_o$, and $\\sigma_{op}$ and size, using the Numpy random module."
   ]
  },
  {
   "cell_type": "code",
   "execution_count": null,
   "metadata": {},
   "outputs": [],
   "source": [
    "#Set up Numpy random generator\n",
    "rg = np.random.default_rng()\n",
    "\n",
    "def draw_parametric_bs_reps_mle(\n",
    "    mle_fun, gen_fun, data, args=(), size=1, progress_bar=False\n",
    "):\n",
    "    \"\"\"Draw parametric bootstrap replicates of maximum likelihood estimator.\n",
    "\n",
    "    Parameters\n",
    "    ----------\n",
    "    mle_fun : function\n",
    "        Function with call signature mle_fun(data, *args) that computes\n",
    "        a MLE for the parameters\n",
    "    gen_fun : function\n",
    "        Function to randomly draw a new data set out of the model\n",
    "        distribution parametrized by the MLE. Must have call\n",
    "        signature `gen_fun(*params, size)`.\n",
    "    data : one-dimemsional Numpy array\n",
    "        Array of measurements\n",
    "    args : tuple, default ()\n",
    "        Arguments to be passed to `mle_fun()`.\n",
    "    size : int, default 1\n",
    "        Number of bootstrap replicates to draw.\n",
    "    progress_bar : bool, default False\n",
    "        Whether or not to display progress bar.\n",
    "\n",
    "    Returns\n",
    "    -------\n",
    "    output : numpy array\n",
    "        Bootstrap replicates of MLEs.\n",
    "    \"\"\"\n",
    "    params = mle_fun(data, *args)\n",
    "\n",
    "    if progress_bar:\n",
    "        iterator = tqdm.tqdm(range(size))\n",
    "    else:\n",
    "        iterator = range(size)\n",
    "\n",
    "    return np.array(\n",
    "        [mle_fun(gen_fun(*params, size=len(data), *args)) for _ in iterator]\n",
    "    )\n",
    "\n",
    "#Generates samples from the model distribution.\n",
    "def sp_multinorm(mu1, mu2, sig1, sig2, sig3, size):\n",
    "    mu = [mu1, mu2]\n",
    "    sig = np.asmatrix([[sig1, sig3], [sig3, sig2]])\n",
    "    return rg.multivariate_normal(mu, sig, size=size)"
   ]
  },
  {
   "cell_type": "markdown",
   "metadata": {},
   "source": [
    "Here we take the parametric bootstraps for the Fortis species. The output is an array of the confidence intervals. Thus the lower bound of the confidence interval for the parameters while the second array is the upper bound of the confidence interval. "
   ]
  },
  {
   "cell_type": "code",
   "execution_count": null,
   "metadata": {},
   "outputs": [],
   "source": [
    "bs_reps_parametric = draw_parametric_bs_reps_mle(\n",
    "    mle_iid_mnorm,\n",
    "    sp_multinorm,\n",
    "    master.loc[master['species'] == \"fortis\"].values[:,:2],\n",
    "    args=(),\n",
    "    size=10000,\n",
    "    progress_bar=True,\n",
    ")\n",
    "np.percentile(bs_reps_parametric, [2.5, 97.5], axis=0)"
   ]
  },
  {
   "cell_type": "markdown",
   "metadata": {},
   "source": [
    "Our results here are consistent with the results in the previous problem because our parameter estimates in the previous lie within the confidence intervals calculated here.  To visualize the relationship between the parameters we can plot the bootstrap samples from each of the parameters against the others. "
   ]
  },
  {
   "cell_type": "code",
   "execution_count": null,
   "metadata": {},
   "outputs": [],
   "source": [
    "# Package replicates in data frame for plotting\n",
    "df_res = pd.DataFrame(data=bs_reps_parametric, columns=[\"mu1\", \"mu2\", \"sig1\", \"sig2\", \"sig3\"])\n",
    "\n",
    "with warnings.catch_warnings():\n",
    "    warnings.simplefilter(\"ignore\")\n",
    "    p = bebi103.viz.corner(\n",
    "        samples=df_res,\n",
    "        parameters=[\"mu1\", \"mu2\", \"sig1\", \"sig2\", \"sig3\"],\n",
    "        show_contours=True,\n",
    "        levels = [0.95],\n",
    "    )\n",
    "\n",
    "bokeh.io.show(p)"
   ]
  },
  {
   "cell_type": "markdown",
   "metadata": {},
   "source": [
    "In these figures, each parameter is compared against the other parameters. We can see that that the means between offspring and parents are positively correlated because we can see a linear relationship. This makes sense because as beak depth increases in parents, given a certain level of heritability, beak depth of offsprings should also increase. We can also see that it seems like $\\sigma_p$, $\\sigma_o$, are positively correlated with $\\sigma_{op}$. This could be the case because as an increase in variance in the offspring and parents would lead to an increased covariance between offspring and parents. Since beak depth is quite heritable in the fortis species, having an increased variance in parents would lead to increased variance in the offspring, and therefore increased covariance. "
   ]
  },
  {
   "cell_type": "markdown",
   "metadata": {},
   "source": [
    "Next, we take the parametric bootstraps to calculate the confidence intervals for the MLE estimates in the scandens species. "
   ]
  },
  {
   "cell_type": "code",
   "execution_count": null,
   "metadata": {},
   "outputs": [],
   "source": [
    "bs_reps_parametric1 = draw_parametric_bs_reps_mle(\n",
    "    mle_iid_mnorm,\n",
    "    sp_multinorm,\n",
    "    master.loc[master['species'] == \"scandens\"].values[:,:2],\n",
    "    args=(),\n",
    "    size=1000,\n",
    "    progress_bar=True,\n",
    ")\n",
    "np.percentile(bs_reps_parametric1, [2.5, 97.5], axis=0)"
   ]
  },
  {
   "cell_type": "markdown",
   "metadata": {},
   "source": [
    "Again, our are consistent with the results in the previous problem because our parameter estimates in the previous lie within the confidence intervals calculated here.  To visualize the relationship between the parameters we can plot the bootstrap samples from each of the parameters against the others. "
   ]
  },
  {
   "cell_type": "code",
   "execution_count": null,
   "metadata": {},
   "outputs": [],
   "source": [
    "# Package replicates in data frame for plotting\n",
    "df_res1 = pd.DataFrame(data=bs_reps_parametric1, columns=[\"mu1\", \"mu2\", \"sig1\", \"sig2\", \"sig3\"])\n",
    "\n",
    "with warnings.catch_warnings():\n",
    "    warnings.simplefilter(\"ignore\")\n",
    "    p1 = bebi103.viz.corner(\n",
    "        samples=df_res1,\n",
    "        parameters=[\"mu1\", \"mu2\", \"sig1\", \"sig2\", \"sig3\"],\n",
    "        show_contours=True,\n",
    "        levels = [0.95],\n",
    "    )\n",
    "\n",
    "bokeh.io.show(p1)"
   ]
  },
  {
   "cell_type": "markdown",
   "metadata": {},
   "source": [
    "Compared to the plots for fortis, the plots show that the parameters of scandens are less correlated to one another - we would expect that parameters that are correlated to show linear relationships but we see dispersed distributions suggesting less correlation between the parameters. Even comparing the means of offpspring vs parents, we don't see a distinct linear correlation as we could see in the fortis plot. This is consistent with the idea that fortis beak depth is more heritible than scandens beak depth. \n"
   ]
  },
  {
   "cell_type": "code",
   "execution_count": null,
   "metadata": {},
   "outputs": [],
   "source": [
    "'''\n",
    "    Attribution: Jen wrote most of the code with input from Arun and Sammy. \n",
    "                 All three of us worked on the analysis and solution discussion.\n",
    "'''\n",
    "\n",
    "%load_ext watermark\n",
    "%watermark -v -m -p jupyterlab,numpy,pandas,scipy,bokeh,iqplot,numba,tqdm,colorcet"
   ]
  },
  {
   "cell_type": "markdown",
   "metadata": {},
   "source": [
    "<div class=\"alert alert-info\">\n",
    "    \n",
    "Good work computing the plug-in and MLE estimates! However, the problem asked for confidence intervals for heritability, and it looks like you only computed and showed confidence intervals for the 5 parameters. You would have just had do one more step and compute heritability from the variances of parents and offspring. \n",
    "    \n",
    "-2\n",
    "    \n",
    "Grade: 28/30\n",
    "    \n",
    "</div>"
   ]
  },
  {
   "cell_type": "code",
   "execution_count": null,
   "metadata": {},
   "outputs": [],
   "source": []
  }
 ],
 "metadata": {
  "kernelspec": {
   "display_name": "Python 3",
   "language": "python",
   "name": "python3"
  },
  "language_info": {
   "codemirror_mode": {
    "name": "ipython",
    "version": 3
   },
   "file_extension": ".py",
   "mimetype": "text/x-python",
   "name": "python",
   "nbconvert_exporter": "python",
   "pygments_lexer": "ipython3",
   "version": "3.8.5"
  }
 },
 "nbformat": 4,
 "nbformat_minor": 4
}
